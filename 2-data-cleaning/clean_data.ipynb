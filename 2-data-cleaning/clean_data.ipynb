{
 "cells": [
  {
   "cell_type": "code",
   "execution_count": 5,
   "id": "95ff0851",
   "metadata": {},
   "outputs": [
    {
     "data": {
      "text/html": [
       "<div>\n",
       "<style scoped>\n",
       "    .dataframe tbody tr th:only-of-type {\n",
       "        vertical-align: middle;\n",
       "    }\n",
       "\n",
       "    .dataframe tbody tr th {\n",
       "        vertical-align: top;\n",
       "    }\n",
       "\n",
       "    .dataframe thead th {\n",
       "        text-align: right;\n",
       "    }\n",
       "</style>\n",
       "<table border=\"1\" class=\"dataframe\">\n",
       "  <thead>\n",
       "    <tr style=\"text-align: right;\">\n",
       "      <th></th>\n",
       "      <th>Data</th>\n",
       "      <th>Produto</th>\n",
       "      <th>Quantidade</th>\n",
       "      <th>Preco Unitario</th>\n",
       "      <th>Cliente</th>\n",
       "    </tr>\n",
       "  </thead>\n",
       "  <tbody>\n",
       "    <tr>\n",
       "      <th>0</th>\n",
       "      <td>2023-10-01</td>\n",
       "      <td>Caneta</td>\n",
       "      <td>50.0</td>\n",
       "      <td>1.50</td>\n",
       "      <td>João</td>\n",
       "    </tr>\n",
       "    <tr>\n",
       "      <th>1</th>\n",
       "      <td>2023-10-02</td>\n",
       "      <td>Caderno</td>\n",
       "      <td>30.0</td>\n",
       "      <td>10.00</td>\n",
       "      <td>NaN</td>\n",
       "    </tr>\n",
       "    <tr>\n",
       "      <th>2</th>\n",
       "      <td>2023-10-03</td>\n",
       "      <td>Lapis</td>\n",
       "      <td>120.0</td>\n",
       "      <td>NaN</td>\n",
       "      <td>Maria</td>\n",
       "    </tr>\n",
       "    <tr>\n",
       "      <th>3</th>\n",
       "      <td>2023-10-04</td>\n",
       "      <td>Borracha</td>\n",
       "      <td>80.0</td>\n",
       "      <td>0.75</td>\n",
       "      <td>Ana</td>\n",
       "    </tr>\n",
       "    <tr>\n",
       "      <th>4</th>\n",
       "      <td>2023-10-05</td>\n",
       "      <td>Mochila</td>\n",
       "      <td>NaN</td>\n",
       "      <td>50.00</td>\n",
       "      <td>Pedro</td>\n",
       "    </tr>\n",
       "  </tbody>\n",
       "</table>\n",
       "</div>"
      ],
      "text/plain": [
       "         Data   Produto  Quantidade  Preco Unitario Cliente\n",
       "0  2023-10-01    Caneta        50.0            1.50    João\n",
       "1  2023-10-02   Caderno        30.0           10.00     NaN\n",
       "2  2023-10-03     Lapis       120.0             NaN   Maria\n",
       "3  2023-10-04  Borracha        80.0            0.75     Ana\n",
       "4  2023-10-05   Mochila         NaN           50.00   Pedro"
      ]
     },
     "execution_count": 5,
     "metadata": {},
     "output_type": "execute_result"
    }
   ],
   "source": [
    "import pandas as pd\n",
    "\n",
    "df = pd.read_csv(\"./data/vendas.csv\")\n",
    "\n",
    "df.head()"
   ]
  },
  {
   "cell_type": "code",
   "execution_count": 6,
   "id": "3382de9b",
   "metadata": {},
   "outputs": [
    {
     "name": "stdout",
     "output_type": "stream",
     "text": [
      "Data              0\n",
      "Produto           0\n",
      "Quantidade        1\n",
      "Preco Unitario    1\n",
      "Cliente           1\n",
      "dtype: int64\n",
      "Data               object\n",
      "Produto            object\n",
      "Quantidade        float64\n",
      "Preco Unitario    float64\n",
      "Cliente            object\n",
      "dtype: object\n"
     ]
    }
   ],
   "source": [
    "print(df.isnull().sum())\n",
    "\n",
    "print(df.dtypes)"
   ]
  },
  {
   "cell_type": "code",
   "execution_count": 7,
   "id": "5b243054",
   "metadata": {},
   "outputs": [
    {
     "name": "stdout",
     "output_type": "stream",
     "text": [
      "        Data   Produto  Quantidade  Preco Unitario Cliente\n",
      "0 2023-10-01    Caneta        50.0          1.5000    João\n",
      "2 2023-10-03     Lapis       120.0         15.5625   Maria\n",
      "3 2023-10-04  Borracha        80.0          0.7500     Ana\n",
      "4 2023-10-05   Mochila         0.0         50.0000   Pedro\n"
     ]
    }
   ],
   "source": [
    "df[\"Data\"] = pd.to_datetime(df[\"Data\"])\n",
    "\n",
    "df[\"Quantidade\"] = df[\"Quantidade\"].fillna(0)\n",
    "df[\"Preco Unitario\"] = df[\"Preco Unitario\"].fillna(df[\"Preco Unitario\"].mean())\n",
    "\n",
    "df = df.dropna(subset=[\"Cliente\"])\n",
    "\n",
    "df.to_csv(\"./data/vendas_limpas.csv\", index=False)\n",
    "\n",
    "print(df.head())"
   ]
  }
 ],
 "metadata": {
  "kernelspec": {
   "display_name": "venv",
   "language": "python",
   "name": "python3"
  },
  "language_info": {
   "codemirror_mode": {
    "name": "ipython",
    "version": 3
   },
   "file_extension": ".py",
   "mimetype": "text/x-python",
   "name": "python",
   "nbconvert_exporter": "python",
   "pygments_lexer": "ipython3",
   "version": "3.13.2"
  }
 },
 "nbformat": 4,
 "nbformat_minor": 5
}
